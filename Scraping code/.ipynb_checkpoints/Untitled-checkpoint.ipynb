{
 "cells": [
  {
   "cell_type": "code",
   "execution_count": 19,
   "metadata": {
    "collapsed": true
   },
   "outputs": [],
   "source": [
    "import image_scraper\n",
    "import os\n",
    "from bs4 import BeautifulSoup\n",
    "import requests"
   ]
  },
  {
   "cell_type": "code",
   "execution_count": 20,
   "metadata": {
    "collapsed": false
   },
   "outputs": [
    {
     "data": {
      "text/plain": [
       "'E:\\\\Projects\\\\Sentimental analysis\\\\Scraping code'"
      ]
     },
     "execution_count": 20,
     "metadata": {},
     "output_type": "execute_result"
    }
   ],
   "source": [
    "os.getcwd()\n",
    "ulr = \"https://www.google.co.in/search?q=happiness&safe=active&rlz=1C1RLNS_enIN721IN721&source=lnms&tbm=isch&sa=X&ved=0ahUKEwiwyuLyrKfVAhUBLJQKHQUFDmYQ_AUICigB&biw=1366&bih=662\""
   ]
  },
  {
   "cell_type": "code",
   "execution_count": 21,
   "metadata": {
    "collapsed": false
   },
   "outputs": [],
   "source": [
    "a = image_scraper.scrape_images(\"https://www.google.co.in/search?q=happiness&safe=active&rlz=1C1RLNS_enIN721IN721&source=lnms&tbm=isch&sa=X&ved=0ahUKEwiwyuLyrKfVAhUBLJQKHQUFDmYQ_AUICigB&biw=1366&bih=662\", no_to_download=None, format_list=['jpg', 'png', 'gif', 'svg', 'jpeg'], download_path='images',\n",
    "                           max_filesize=100000000, dump_urls=True, use_ghost=True)"
   ]
  },
  {
   "cell_type": "code",
   "execution_count": 23,
   "metadata": {
    "collapsed": false
   },
   "outputs": [],
   "source": [
    "page = requests.get(\"https://www.google.co.in/search?q=happiness&safe=active&rlz=1C1RLNS_enIN721IN721&source=lnms&tbm=isch&sa=X&ved=0ahUKEwiwyuLyrKfVAhUBLJQKHQUFDmYQ_AUICigB&biw=1366&bih=662\")"
   ]
  },
  {
   "cell_type": "code",
   "execution_count": 25,
   "metadata": {
    "collapsed": false
   },
   "outputs": [],
   "source": [
    "soup = BeautifulSoup(page.content, 'html.parser')"
   ]
  },
  {
   "cell_type": "code",
   "execution_count": 27,
   "metadata": {
    "collapsed": false
   },
   "outputs": [],
   "source": [
    "img_tags = soup.find_all('img')"
   ]
  },
  {
   "cell_type": "code",
   "execution_count": 29,
   "metadata": {
    "collapsed": false
   },
   "outputs": [
    {
     "data": {
      "text/plain": [
       "20"
      ]
     },
     "execution_count": 29,
     "metadata": {},
     "output_type": "execute_result"
    }
   ],
   "source": [
    "len(img_tags)"
   ]
  },
  {
   "cell_type": "code",
   "execution_count": null,
   "metadata": {
    "collapsed": true
   },
   "outputs": [],
   "source": []
  }
 ],
 "metadata": {
  "kernelspec": {
   "display_name": "Python 2",
   "language": "python",
   "name": "python2"
  },
  "language_info": {
   "codemirror_mode": {
    "name": "ipython",
    "version": 2
   },
   "file_extension": ".py",
   "mimetype": "text/x-python",
   "name": "python",
   "nbconvert_exporter": "python",
   "pygments_lexer": "ipython2",
   "version": "2.7.12"
  }
 },
 "nbformat": 4,
 "nbformat_minor": 2
}
