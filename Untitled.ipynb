{
 "cells": [
  {
   "cell_type": "code",
   "execution_count": 10,
   "metadata": {
    "collapsed": false
   },
   "outputs": [],
   "source": [
    "from bs4 import BeautifulSoup\n",
    "import requests"
   ]
  },
  {
   "cell_type": "code",
   "execution_count": 12,
   "metadata": {
    "collapsed": true
   },
   "outputs": [],
   "source": [
    "page = requests.get(\"https://www.google.co.in/search?q=happiness&safe=active&rlz=1C1RLNS_enIN721IN721&source=lnms&tbm=isch&sa=X&ved=0ahUKEwik0ML46KbVAhUDObwKHUOTBtIQ_AUICigB&biw=1366&bih=662#imgrc=_\")"
   ]
  },
  {
   "cell_type": "code",
   "execution_count": 13,
   "metadata": {
    "collapsed": false
   },
   "outputs": [],
   "source": [
    "soup = BeautifulSoup(page.content, 'html.parser')"
   ]
  },
  {
   "cell_type": "code",
   "execution_count": 14,
   "metadata": {
    "collapsed": false
   },
   "outputs": [
    {
     "data": {
      "text/plain": [
       "[<img alt=\"Image result for happiness\" height=\"75\" src=\"https://encrypted-tbn0.gstatic.com/images?q=tbn:ANd9GcTK1VhcQNXUro5-GvGHrKxXNdbhMhq8E3OevvEWP1jiANgHApdUUkdBRMXL\" width=\"150\"/>,\n",
       " <img alt=\"Image result for happiness\" height=\"99\" src=\"https://encrypted-tbn0.gstatic.com/images?q=tbn:ANd9GcRdlmR6pJRVuHRct4ZaLuipDNdjM3wFLHOEkK8Oz6qz91SziYera5rX6Gw\" width=\"150\"/>,\n",
       " <img alt=\"Image result for happiness\" height=\"82\" src=\"https://encrypted-tbn0.gstatic.com/images?q=tbn:ANd9GcQwjQtgwKgt_6mgZG04F9b_FvlJN_gVMtMBGPnn4mZiWeCAlZY0KkCMS7g\" width=\"146\"/>,\n",
       " <img alt=\"Image result for happiness\" height=\"93\" src=\"https://encrypted-tbn0.gstatic.com/images?q=tbn:ANd9GcRxVrxcgKjLPXOrNvS9UKCyY39AqYSEgIJvgPm_P7BoNydd9aMtNPCD6sA\" width=\"140\"/>,\n",
       " <img alt=\"Image result for happiness\" height=\"100\" src=\"https://encrypted-tbn0.gstatic.com/images?q=tbn:ANd9GcQ0mRmJ3fCce1-WbjH0Ah3DCkVARRSyb4V4gLgKWU61XJ_9zR3OzNS5QowB\" width=\"150\"/>,\n",
       " <img alt=\"Image result for happiness\" height=\"88\" src=\"https://encrypted-tbn0.gstatic.com/images?q=tbn:ANd9GcSLKriWoJs1pm-fpuGv6nWxUK72w7UBleb3eespFGRjdoi40WuNh3Jb84c\" width=\"143\"/>,\n",
       " <img alt=\"Image result for happiness\" height=\"78\" src=\"https://encrypted-tbn0.gstatic.com/images?q=tbn:ANd9GcTIVx_6ikOjg6FBA8XHKpNi-CvyKgHAwAX-Dy02Qi2ApdJjPHMWvxmFBIVb\" width=\"138\"/>,\n",
       " <img alt=\"Image result for happiness\" height=\"75\" src=\"https://encrypted-tbn0.gstatic.com/images?q=tbn:ANd9GcQgyufFeHyBzl5oaOcEZjCEc9-lEtbdVPyceEZSIksWVszHtu4Mxd5b1GRz\" width=\"150\"/>,\n",
       " <img alt=\"Image result for happiness\" height=\"113\" src=\"https://encrypted-tbn0.gstatic.com/images?q=tbn:ANd9GcRIVSVCDNIOfrpn-SQF-999Xmh9hVey0sC-D8UY4qmWaj4XoqMjnDEY07M\" width=\"150\"/>,\n",
       " <img alt=\"Image result for happiness\" height=\"77\" src=\"https://encrypted-tbn0.gstatic.com/images?q=tbn:ANd9GcQJ136c3fmliWvZLFx-w_EugD7a04YbUCR9K22y8JjL2m3nF1h12NGtCDg\" width=\"135\"/>,\n",
       " <img alt=\"Image result for happiness\" height=\"149\" src=\"https://encrypted-tbn0.gstatic.com/images?q=tbn:ANd9GcTW98ZRxVAzkVMPTPAizbfHGOAQsdm2ub0QhWIFyFOn126URhwyN_fpip2t_g\" width=\"149\"/>,\n",
       " <img alt=\"Image result for happiness\" height=\"88\" src=\"https://encrypted-tbn0.gstatic.com/images?q=tbn:ANd9GcSW8S4xs1-aaLDvxG8ndtHHqFc8VQawSqR0Z54A8LOf42oXU1vo0-L0mk4l\" width=\"148\"/>,\n",
       " <img alt=\"Image result for happiness\" height=\"150\" src=\"https://encrypted-tbn0.gstatic.com/images?q=tbn:ANd9GcQGQzUdOyMkaPdIkyDOKrFzCSquXx4PMF_GwR4-JwdVHLa7xuWbKi5fnKJmww\" width=\"150\"/>,\n",
       " <img alt=\"Image result for happiness\" height=\"90\" src=\"https://encrypted-tbn0.gstatic.com/images?q=tbn:ANd9GcSsFvKW-HzDu9nJMsEsBOHbvVI8TeSh1o-wV-xHbQaf2lTT-f6FeKmq3QAW\" width=\"137\"/>,\n",
       " <img alt=\"Image result for happiness\" height=\"150\" src=\"https://encrypted-tbn0.gstatic.com/images?q=tbn:ANd9GcSGaVcbM6uk4BLgeSUgoCV6-hbEYZPK3HW-PdqBm91bzM05m2spDqJPGbOU\" width=\"150\"/>,\n",
       " <img alt=\"Image result for happiness\" height=\"73\" src=\"https://encrypted-tbn0.gstatic.com/images?q=tbn:ANd9GcRrGuzEeaQFdmwvYWCEtLp66lrWwHwqP9Y-i-sPQR6Q00DFDWbsAEbQa_o\" width=\"140\"/>,\n",
       " <img alt=\"Image result for happiness\" height=\"94\" src=\"https://encrypted-tbn0.gstatic.com/images?q=tbn:ANd9GcSkC-tuJPI_GT7aofzvfMovOuBLEPgxo8kZhgv8NBICDtErwbZKPxxTyEw\" width=\"150\"/>,\n",
       " <img alt=\"Image result for happiness\" height=\"90\" src=\"https://encrypted-tbn0.gstatic.com/images?q=tbn:ANd9GcSVBQ08Vdbz4He6b3-u5xvnSUOqgYVm2eEs1BkEKPKbAqBfRmtVhyKg25k\" width=\"135\"/>,\n",
       " <img alt=\"Image result for happiness\" height=\"90\" src=\"https://encrypted-tbn0.gstatic.com/images?q=tbn:ANd9GcRWRqY4KMnrjXGRNc9MrRAKQ6BCVa_4Zg7oqWOV4a4y0yJASFIMspLXIkO3\" width=\"129\"/>,\n",
       " <img alt=\"Image result for happiness\" height=\"122\" src=\"https://encrypted-tbn0.gstatic.com/images?q=tbn:ANd9GcQC4XUIBnRWjHGW2FDgVxo6SQRDPIXDWX-CbBfqmveDMPj0XudhDVNRbPY\" width=\"150\"/>]"
      ]
     },
     "execution_count": 14,
     "metadata": {},
     "output_type": "execute_result"
    }
   ],
   "source": [
    "soup.find_all(\"img\")"
   ]
  },
  {
   "cell_type": "code",
   "execution_count": null,
   "metadata": {
    "collapsed": true
   },
   "outputs": [],
   "source": []
  }
 ],
 "metadata": {
  "kernelspec": {
   "display_name": "Python 2",
   "language": "python",
   "name": "python2"
  },
  "language_info": {
   "codemirror_mode": {
    "name": "ipython",
    "version": 2
   },
   "file_extension": ".py",
   "mimetype": "text/x-python",
   "name": "python",
   "nbconvert_exporter": "python",
   "pygments_lexer": "ipython2",
   "version": "2.7.12"
  }
 },
 "nbformat": 4,
 "nbformat_minor": 2
}
